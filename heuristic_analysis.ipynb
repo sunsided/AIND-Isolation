{
 "cells": [
  {
   "cell_type": "markdown",
   "metadata": {
    "deletable": true,
    "editable": true
   },
   "source": [
    "# Analysis of implemented heuristics functions"
   ]
  },
  {
   "cell_type": "markdown",
   "metadata": {
    "deletable": true,
    "editable": true
   },
   "source": [
    "The implementations in this code are different variations of either hunting or avoiding the opponent, while simultaneously trying to keep the future number of explorable moves high.\n",
    "\n",
    "It turned out that while most of the implementations are consistently better against (pure) minimax players,\n",
    "they tend to behave worse against alpha-beta pruned minimax with iterative deepening. Here, the problem may lie very well in the fact that \"smarter\" implementations might take longer to evaluate, which in turn can prevent the iterative deepening approach from exploring more actual states - in essence, even \"dumb\" heuristics might be good when evaluated fast enough.\n",
    "\n",
    "Sadly, the sequential implementation in `tournament.py` prevents fast iterations on ideas, while the (necessarily) low number of iterations provides only a very rough statistic of the actual performance."
   ]
  },
  {
   "cell_type": "markdown",
   "metadata": {},
   "source": [
    "## Heuristics functions\n",
    "\n",
    "The evaluated heuristics functions were:\n",
    "\n",
    "* `diff_opportunities_hunter`\n",
    "* `diff_opportunities_pow`\n",
    "* `diff_opportunities_centered`\n",
    "* `counter_opponent` \n",
    "* `own_moves`\n",
    "* `opponent_moves`\n",
    "\n",
    "### `diff_opportunities_hunter`\n",
    "\n",
    "This function obtains its score by comparing the players available moves with the opponent's, but additionally attempts to reduce the distance between the two players. The distance metric is minimal in a distance of three fields, which is the distance a player can move in one turn. The idea is to try to steal a possible future move from the opponent.\n",
    "\n",
    "### `diff_opportunities_pow`\n",
    "\n",
    "This function projects the current player positions into possible future moves. It takes both the differences of directly possible and projected moves and obtains a score by multiplying exponentials of these values (rather, bases, raised to the power of these). Since negative opponents result in values less than one, either situation in favor of the opponent would result in a multiplication with a small value, reducing the score.\n",
    "\n",
    "### `diff_opportunities_centered`\n",
    "\n",
    "This takes the idea of possible future moves a step further by going two turns into the future. First, the opponent's possible moves are determined and every move the player could take (thus preventing the opponent from going there) are removed. Then, the opponent does the same with projected moves for the player. One additional round of obtaining moves for the opponent is performed and the number of available moves that cannot be \"countered\" is returned as a part of the score.\n",
    "The final score is a difference between player scores, with an attraction to the board center mixed in to avoid corners.\n",
    "\n",
    "### `counter_opponent`\n",
    "\n",
    "This method obtains a higher weight for future moves the opponent _could_ take, if the move wouldn't be taken by the player. The idea is to actively steal good moves from the opponent.\n",
    "\n",
    "\n",
    "### `own_moves`\n",
    "\n",
    "Giving a higher weight to the player's future moves, this method attempts to give high visibility to moves that lead into big open spaces in the future.\n",
    "\n",
    "### ` opponent_moves`\n",
    "\n",
    "An easier variant of `own_moves`, this method gives higher weights to opponent'a future moves, thus aiming to prevent the opponent from getting good opportunities in the future."
   ]
  },
  {
   "cell_type": "markdown",
   "metadata": {},
   "source": [
    "## Evaluation\n",
    "\n",
    "Between three and four tournaments of ten matches each were run using the different heuristics functions to evaluate their performance. Since the `AB_Improved` player was present in all runs, it should obtain the most correct rating out of all observations. As it turned out, the `AB_Improved` heuristic was unmatched by any experiment I ran."
   ]
  },
  {
   "cell_type": "code",
   "execution_count": 8,
   "metadata": {
    "collapsed": false,
    "deletable": true,
    "editable": true,
    "hideCode": false,
    "hideOutput": false
   },
   "outputs": [
    {
     "data": {
      "text/html": [
       "<div>\n",
       "<table border=\"1\" class=\"dataframe\">\n",
       "  <thead>\n",
       "    <tr style=\"text-align: right;\">\n",
       "      <th></th>\n",
       "      <th>Algorithm</th>\n",
       "      <th>Alpha-Beta</th>\n",
       "      <th>MiniMax</th>\n",
       "      <th>Random</th>\n",
       "      <th>Total</th>\n",
       "    </tr>\n",
       "  </thead>\n",
       "  <tbody>\n",
       "    <tr>\n",
       "      <th>0</th>\n",
       "      <td>AB_Improved</td>\n",
       "      <td>0.5810</td>\n",
       "      <td>0.7667</td>\n",
       "      <td>0.9857</td>\n",
       "      <td>0.7184</td>\n",
       "    </tr>\n",
       "    <tr>\n",
       "      <th>1</th>\n",
       "      <td>diff_opportunities_hunter</td>\n",
       "      <td>0.4556</td>\n",
       "      <td>0.6111</td>\n",
       "      <td>0.9000</td>\n",
       "      <td>0.5857</td>\n",
       "    </tr>\n",
       "    <tr>\n",
       "      <th>2</th>\n",
       "      <td>diff_opportunities_pow</td>\n",
       "      <td>0.4000</td>\n",
       "      <td>0.6556</td>\n",
       "      <td>0.9000</td>\n",
       "      <td>0.5810</td>\n",
       "    </tr>\n",
       "    <tr>\n",
       "      <th>3</th>\n",
       "      <td>counter_opponent</td>\n",
       "      <td>0.3778</td>\n",
       "      <td>0.6444</td>\n",
       "      <td>0.9000</td>\n",
       "      <td>0.5667</td>\n",
       "    </tr>\n",
       "    <tr>\n",
       "      <th>4</th>\n",
       "      <td>own_moves</td>\n",
       "      <td>0.4500</td>\n",
       "      <td>0.6167</td>\n",
       "      <td>0.8250</td>\n",
       "      <td>0.5750</td>\n",
       "    </tr>\n",
       "    <tr>\n",
       "      <th>5</th>\n",
       "      <td>diff_opportunities_centered</td>\n",
       "      <td>0.3917</td>\n",
       "      <td>0.6083</td>\n",
       "      <td>0.8250</td>\n",
       "      <td>0.5464</td>\n",
       "    </tr>\n",
       "    <tr>\n",
       "      <th>6</th>\n",
       "      <td>opponent_moves</td>\n",
       "      <td>0.4500</td>\n",
       "      <td>0.6417</td>\n",
       "      <td>0.8250</td>\n",
       "      <td>0.5857</td>\n",
       "    </tr>\n",
       "  </tbody>\n",
       "</table>\n",
       "</div>"
      ],
      "text/plain": [
       "                     Algorithm  Alpha-Beta  MiniMax  Random   Total\n",
       "0                  AB_Improved      0.5810   0.7667  0.9857  0.7184\n",
       "1    diff_opportunities_hunter      0.4556   0.6111  0.9000  0.5857\n",
       "2       diff_opportunities_pow      0.4000   0.6556  0.9000  0.5810\n",
       "3             counter_opponent      0.3778   0.6444  0.9000  0.5667\n",
       "4                    own_moves      0.4500   0.6167  0.8250  0.5750\n",
       "5  diff_opportunities_centered      0.3917   0.6083  0.8250  0.5464\n",
       "6               opponent_moves      0.4500   0.6417  0.8250  0.5857"
      ]
     },
     "execution_count": 8,
     "metadata": {},
     "output_type": "execute_result"
    }
   ],
   "source": [
    "import pandas as pd\n",
    "df = pd.DataFrame({\n",
    "    'Algorithm': (\n",
    "        'AB_Improved', 'diff_opportunities_hunter',  'diff_opportunities_pow', \n",
    "        'counter_opponent',  'own_moves', 'diff_opportunities_centered', 'opponent_moves'),\n",
    "    'Total':      (0.7184, 0.5857, 0.5810, 0.5667, 0.5750, 0.5464, 0.5857),\n",
    "    'Alpha-Beta': (0.5810, 0.4556, 0.4000, 0.3778, 0.4500, 0.3917, 0.4500),\n",
    "    'MiniMax':    (0.7667, 0.6111, 0.6556, 0.6444, 0.6167, 0.6083, 0.6417),\n",
    "    'Random':     (0.9857, 0.9000, 0.9000, 0.9000, 0.8250, 0.8250, 0.8250)\n",
    "})\n",
    "df"
   ]
  },
  {
   "cell_type": "markdown",
   "metadata": {},
   "source": [
    "Data was reshaped to obtain a grouped bar plot. The bars are ordered starting with total performance, then continuing from hardest opponent class (alpha-beta pruned MiniMax) to easiest opponent (random player)."
   ]
  },
  {
   "cell_type": "code",
   "execution_count": 7,
   "metadata": {
    "collapsed": false,
    "deletable": true,
    "editable": true,
    "hideCode": false
   },
   "outputs": [],
   "source": [
    "df2 = pd.melt(df, id_vars=['Algorithm'], \n",
    "              var_name='opponent_type', value_name='win_rate')\n",
    "df2['opponent_type'] = pd.Categorical(df2['opponent_type'], \n",
    "                                      ['Total', 'Alpha-Beta', 'MiniMax', 'Random'])\n",
    "df2 = df2.sort_values(['Algorithm', 'opponent_type'])"
   ]
  },
  {
   "cell_type": "code",
   "execution_count": 6,
   "metadata": {
    "collapsed": false
   },
   "outputs": [
    {
     "data": {
      "text/plain": [
       "<matplotlib.axes._subplots.AxesSubplot at 0x1e211caac50>"
      ]
     },
     "execution_count": 6,
     "metadata": {},
     "output_type": "execute_result"
    },
    {
     "data": {
      "image/png": "[encoded data removed]",
      "text/plain": [
       "<matplotlib.figure.Figure at 0x1e211a75898>"
      ]
     },
     "metadata": {},
     "output_type": "display_data"
    }
   ],
   "source": [
    "import seaborn as sns\n",
    "%matplotlib inline\n",
    "sns.set_style('whitegrid')\n",
    "sns.set_context(rc={'figure.figsize': (15, 9)})\n",
    "sns.barplot(x='Algorithm', y='win_rate', hue='opponent_type', data=df2)"
   ]
  },
  {
   "cell_type": "markdown",
   "metadata": {
    "collapsed": true,
    "deletable": true,
    "editable": true
   },
   "source": [
    "As can be seen, the `AB_Improved` heuristic is better in every category, followed by the `diff_opportunities_hunter` heuristic. The total score appears to similar for the `diff_opportunities_pow` heuristic; this is, however, due to higher winning rate against the easier MiniMax opponents that don't use iterative deepening, whereas the score against Alpha-Beta pruning opponents is worse."
   ]
  },
  {
   "cell_type": "markdown",
   "metadata": {},
   "source": [
    "In general, it appears to be that heuristics favoring better moves for the player tend to achieve higher scores than aggressive methods that try to hinder the opponent."
   ]
  },
  {
   "cell_type": "markdown",
   "metadata": {},
   "source": [
    "In lack of a better (own!) implementation, the `diff_opportunities_hunter` heuristic was selected for submission."
   ]
  }
 ],
 "metadata": {
  "kernelspec": {
   "display_name": "Python 3",
   "language": "python",
   "name": "python3"
  },
  "language_info": {
   "codemirror_mode": {
    "name": "ipython",
    "version": 3
   },
   "file_extension": ".py",
   "mimetype": "text/x-python",
   "name": "python",
   "nbconvert_exporter": "python",
   "pygments_lexer": "ipython3",
   "version": "3.6.0"
  }
 },
 "nbformat": 4,
 "nbformat_minor": 2
}
